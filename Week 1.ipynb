{
 "cells": [
  {
   "cell_type": "markdown",
   "metadata": {},
   "source": [
    "# Week 1#"
   ]
  },
  {
   "cell_type": "markdown",
   "metadata": {},
   "source": [
    "**Question 1**\n",
    "*According to Chapter 1, what are some things that we humans might want technology to help us get?*\n",
    "\n",
    "* We want to be heard.\n",
    "* We want to satisfy our curiosity.\n",
    "* We want it easy.\n",
    "* We want it now.\n",
    "\n"
   ]
  },
  {
   "cell_type": "markdown",
   "metadata": {},
   "source": [
    "**Question 2** What's the maximum number of characters in a Tweet?\n",
    "\n",
    "**140**"
   ]
  },
  {
   "cell_type": "markdown",
   "metadata": {},
   "source": [
    "**Question 3** How many monthly active users does the book say that we can find on Twitter?\n",
    "\n",
    "**100 Million**"
   ]
  },
  {
   "cell_type": "markdown",
   "metadata": {},
   "source": [
    "**Question 4** What is the key difference between connections on Twitter and connections on Facebook?\n",
    "\n",
    "Facebook requires both users to agree to the connection between each other, while Twitter lets you follow anyone without them having to follow you back or even are aware of your existence. This fuels our natural curiousity and lets us follow anyone we are intersted in, without having to know them."
   ]
  },
  {
   "cell_type": "code",
   "execution_count": 27,
   "metadata": {
    "collapsed": true
   },
   "outputs": [],
   "source": [
    "import uuid\n",
    "from IPython.display import display_javascript, display_html, display\n",
    "import json\n",
    "\n",
    "class RenderJSON(object):\n",
    "    def __init__(self, json_data):\n",
    "        if isinstance(json_data, dict):\n",
    "            self.json_str = json.dumps(json_data)\n",
    "        else:\n",
    "            self.json_str = json\n",
    "        self.uuid = str(uuid.uuid4())\n",
    "\n",
    "    def _ipython_display_(self):\n",
    "        display_html('<div id=\"{}\" style=\"height: 600px; width:100%;\"></div>'.format(self.uuid),\n",
    "            raw=True\n",
    "        )\n",
    "        display_javascript(\"\"\"\n",
    "        require([\"https://rawgit.com/caldwell/renderjson/master/renderjson.js\"], function() {\n",
    "          document.getElementById('%s').appendChild(renderjson(%s))\n",
    "        });\n",
    "        \"\"\" % (self.uuid, self.json_str), raw=True)"
   ]
  },
  {
   "cell_type": "code",
   "execution_count": 13,
   "metadata": {
    "collapsed": false
   },
   "outputs": [
    {
     "name": "stdout",
     "output_type": "stream",
     "text": [
      "<twitter.api.Twitter object at 0x0000000003DA00F0>\n"
     ]
    }
   ],
   "source": [
    "import twitter\n",
    "\n",
    "accessToken = \"514520434-0zzxOfId5PZdCg4T72goWA2yYmyXreKQVRloesEG\"\n",
    "tokenKey = \"FrgJJEPlkiRmY3t8MX9BS5yJNZLuvUTyzaZ0Wqb50qwjU\"\n",
    "consumerKey = \"2Qih6HMlkSvpRIFkXcfja8FMD\"\n",
    "consumerSecret = \"RSGKnONWKLLuCGnQWL932SxXxsyUqKKsUxfqhTN3wPq02Z9azQ\"\n",
    "\n",
    "auth = twitter.oauth.OAuth(accessToken, tokenKey, consumerKey, consumerSecret)\n",
    "twitter_api = twitter.Twitter(auth=auth)\n",
    "\n",
    "print twitter_api\n"
   ]
  },
  {
   "cell_type": "code",
   "execution_count": 36,
   "metadata": {
    "collapsed": false
   },
   "outputs": [
    {
     "name": "stdout",
     "output_type": "stream",
     "text": [
      "set([u'Felices 140', u'\\ub4b7\\ub2f4\\ud654', u'\\ucc9c\\uc0ac\\uc640 \\uc545\\ub9c8', u'#\\u0645\\u0627\\u0630\\u0627_\\u0627\\u0633\\u062a\\u0641\\u062f\\u0646\\u0627_\\u0645\\u0646_\\u0633\\u0646\\u0627\\u0628_\\u0634\\u0627\\u062a', u'#FelizMartes', u'#\\u062a\\u0627\\u0648\\u0631_\\u062c\\u062f\\u064a\\u062f_\\u0628\\u0627\\u0644\\u0633\\u0639\\u0648\\u062f\\u064a\\u0647', u'Sam Smith', u'Alexander Pacteau', u'#Vatan\\u0131mU\\u011fruna', u'#I\\u011fd\\u0131r'])\n"
     ]
    }
   ],
   "source": [
    "world_woid = 1\n",
    "dk_woid = 23424796\n",
    "\n",
    "world_trends = twitter_api.trends.place(_id=world_woid)\n",
    "dk_trends = twitter_api.trends.place(_id=dk_woid)\n",
    "\n",
    "world_trends_set = set([trend['name'] for trend in world_trends[0]['trends']])\n",
    "\n",
    "print world_trends_set "
   ]
  },
  {
   "cell_type": "code",
   "execution_count": null,
   "metadata": {
    "collapsed": true
   },
   "outputs": [],
   "source": []
  }
 ],
 "metadata": {
  "kernelspec": {
   "display_name": "Python 2",
   "language": "python",
   "name": "python2"
  },
  "language_info": {
   "codemirror_mode": {
    "name": "ipython",
    "version": 2
   },
   "file_extension": ".py",
   "mimetype": "text/x-python",
   "name": "python",
   "nbconvert_exporter": "python",
   "pygments_lexer": "ipython2",
   "version": "2.7.10"
  }
 },
 "nbformat": 4,
 "nbformat_minor": 0
}
