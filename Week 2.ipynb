{
 "cells": [
  {
   "cell_type": "markdown",
   "metadata": {},
   "source": [
    "# Week 2 #"
   ]
  },
  {
   "cell_type": "markdown",
   "metadata": {},
   "source": [
    "**Question 1**\n",
    "List three different real networks and state the nodes and links for each of them.\n",
    "\n",
    "**WWW**\n",
    "Webpages are nodes, links are edges.\n",
    "\n",
    "**Social Network**\n",
    "People are nodes, relationships are edges.\n",
    "\n",
    "**GPS maps**\n",
    "Street intersections are nodes,streets are edges.\n"
   ]
  },
  {
   "cell_type": "markdown",
   "metadata": {},
   "source": [
    "**Question 2**\n",
    "Tell us of the network you are personally most interested in. Address the following questions:\n",
    "\n",
    "* What are its nodes and links?\n",
    "* How large is it?\n",
    "* Can be mapped out?\n",
    "* Why do you care about it?\n",
    "\n",
    "I find the human interconnectivity very insteresting. The six-degree of bacon theory seems very curious, the idea that we are all interconnected by just a couple of links.\n",
    "Every human is a node and links are events or realtionships which connect these people.\n",
    "It has about 7.3 Billion nodes, the number of links varies by what you define as having a connection or relationship to another person, but it's a huge amount.\n",
    "Not easily, it again depends on definitions of when humans are connected, how intimit does the relation have to be to consider them connected. Facebook is kinda atempting this, with a very narrow definition of relation.\n",
    "I think it shows how closly connected we all are and how similiar."
   ]
  },
  {
   "cell_type": "markdown",
   "metadata": {},
   "source": [
    "**Question 3** In your view what would be the area where network science could have the biggest impact in the next decade? Explain your answer - and base it on the text in the book.\n",
    "\n",
    "The book explains how networks are underlying almost every complex system we know to date. With human evolution our systems are just getting more and more complex, with more layers and more individually moving parts. Systems have been getting to complex to understand at a glance and network analysis is the biggest step to automating a lot of complex system designing. As such I think network science biggest impact might just be it becoming part of every other science (as it already has). So while it might lead to some major break throughs in Computer Science, Social Science, Biology or Chemistry, I believe the most important part of network science is how it can be applied to everything else. How it already plays a roll in day-to-day live for millions in the form of GPS and improving productivity in a lot of aspects of our society. \n",
    "I see network science as a tool to improve thousands of different areas, as these are improved they get more efficent which will solve many problems, which we are currently facing. \n"
   ]
  },
  {
   "cell_type": "markdown",
   "metadata": {},
   "source": [
    "**Question 4**\n",
    "Section 2.5 states that real networks are sparse. Can you think of a real network where each node has many connections? Is that network still sparse? If yes, can you explain why?\n",
    "\n",
    "I can come up with many, non-spares and even many complete networks, where every note is connected with every other note, but most of these are useless. If every node is connected with every other node, then there is no reason to model the dependency (unless the nodes are weighted or directed). It all depends on the requirments for a node to be linked to another node. If for example we had a network showing the relations of students in a class, the studends are the nodes. If we say that two nodes are linked if the students are friends, then we would get a *normal* spares network, but if we were to say that two nodes are linked if the students simply know each other, we would end up with a complete network. The latter network would be useless, since it's implied that everyone in the class at least knows each other, or has seen each other. As such there are *real* networks which aren't sparse, but we are rarely interessted in these. If there is an overabundance of connections, then there is rarely a reason to analyse the network at all, unless we wish to discover which nodes **aren't** linked, in which case we should reverse our network parameters and ask which students do not know each other, just as an example. Interestingly this means that networks can also be used to model the lack of connectivity."
   ]
  },
  {
   "cell_type": "markdown",
   "metadata": {},
   "source": [
    "## Working with networkx ##"
   ]
  },
  {
   "cell_type": "code",
   "execution_count": 2,
   "metadata": {
    "collapsed": true
   },
   "outputs": [],
   "source": [
    "import networkx as nx\n",
    "G=nx.Graph()\n",
    "G.add_node(1)\n",
    "G.add_nodes_from([2,3])"
   ]
  },
  {
   "cell_type": "code",
   "execution_count": 3,
   "metadata": {
    "collapsed": true
   },
   "outputs": [],
   "source": [
    "G.add_edge(1,2)\n",
    "e=(2,3)\n",
    "G.add_edge(*e)\n",
    "G.add_edge(3,1)"
   ]
  },
  {
   "cell_type": "code",
   "execution_count": 4,
   "metadata": {
    "collapsed": false
   },
   "outputs": [
    {
     "data": {
      "text/plain": [
       "[1, 2, 3]"
      ]
     },
     "execution_count": 4,
     "metadata": {},
     "output_type": "execute_result"
    }
   ],
   "source": [
    "G.nodes()"
   ]
  },
  {
   "cell_type": "code",
   "execution_count": 5,
   "metadata": {
    "collapsed": false
   },
   "outputs": [
    {
     "data": {
      "text/plain": [
       "[(1, 2), (1, 3), (2, 3)]"
      ]
     },
     "execution_count": 5,
     "metadata": {},
     "output_type": "execute_result"
    }
   ],
   "source": [
    "G.edges()"
   ]
  },
  {
   "cell_type": "code",
   "execution_count": 6,
   "metadata": {
    "collapsed": false
   },
   "outputs": [
    {
     "data": {
      "text/plain": [
       "[1, 3]"
      ]
     },
     "execution_count": 6,
     "metadata": {},
     "output_type": "execute_result"
    }
   ],
   "source": [
    "G.neighbors(2)"
   ]
  },
  {
   "cell_type": "code",
   "execution_count": 7,
   "metadata": {
    "collapsed": false
   },
   "outputs": [],
   "source": [
    "import matplotlib.pyplot as plt\n",
    "\n",
    "nx.draw(G)\n",
    "plt.show()"
   ]
  },
  {
   "cell_type": "markdown",
   "metadata": {
    "collapsed": true
   },
   "source": [
    "## Book Excercises ##"
   ]
  },
  {
   "cell_type": "markdown",
   "metadata": {},
   "source": [
    "**2.1. Königsberg Problem**\n",
    "Which of the icons in Figure 2.19 can be drawn without raising your\n",
    "pencil from the paper, and without drawing any line more than once?\n",
    "Why?\n",
    "\n",
    "**A**\n",
    "This one does fulfill the requirements, since it has only two nodes with an uneven number of edges.\n",
    "\n",
    "**B**\n",
    "This one does **not** fulfill the requirments, since it has neither two nor zero nodes with an uneven number of edges, it has 4.\n",
    "\n",
    "**C**\n",
    "This one has 12 nodes, which all have either 2 or 4 edges, which means there are zero nodes with an uneven number of edges, which means it fulfills the requirments.\n",
    "\n",
    "**D**\n",
    "If we consider the highest and lowest points of the two elipses as nodes, we can see that all nodes that are part of the main figure have an even number of edges with the exception of the one node in the bottom right, which only has one edge. Meaning that the requirments are not fulfilled, since there is one and only one node with an uneven number of edges.\n",
    "\n"
   ]
  },
  {
   "cell_type": "markdown",
   "metadata": {},
   "source": [
    "**2.3. Graph Representation**\n",
    "The adjacency matrix is a useful graph representation for many analytical\n",
    "calculations. However, when we need to store a network in a computer,\n",
    "we can save computer memory by offering the list of links in a Lx2 matrix,\n",
    "whose rows contain the starting and end point i and j of each link."
   ]
  },
  {
   "cell_type": "markdown",
   "metadata": {},
   "source": [
    "**(a) The corresponding adjacency matrices**"
   ]
  },
  {
   "cell_type": "code",
   "execution_count": 8,
   "metadata": {
    "collapsed": false
   },
   "outputs": [
    {
     "name": "stdout",
     "output_type": "stream",
     "text": [
      "One: \n",
      "[[0 1 1 1 0 1]\n",
      " [1 0 1 1 0 0]\n",
      " [1 1 0 0 0 1]\n",
      " [1 1 0 0 0 0]\n",
      " [0 0 0 0 0 0]\n",
      " [1 0 1 0 0 0]]\n",
      "Two: \n",
      "[[0 1 0 0 0 0]\n",
      " [0 0 1 1 0 0]\n",
      " [1 1 0 0 0 0]\n",
      " [1 0 0 0 0 0]\n",
      " [0 0 0 0 0 0]\n",
      " [1 0 1 0 0 0]]\n"
     ]
    }
   ],
   "source": [
    "import numpy\n",
    "one = numpy.matrix('0 1 1 1 0 1; 1 0 1 1 0 0; 1 1 0 0 0 1; 1 1 0 0 0 0; 0 0 0 0 0 0; 1 0 1 0 0 0')\n",
    "\n",
    "print \"One: \"\n",
    "print one\n",
    "\n",
    "two = numpy.matrix('0 1 0 0 0 0; 0 0 1 1 0 0; 1 1 0 0 0 0; 1 0 0 0 0 0; 0 0 0 0 0 0; 1 0 1 0 0 0')\n",
    "\n",
    "print \"Two: \"\n",
    "print two"
   ]
  },
  {
   "cell_type": "markdown",
   "metadata": {},
   "source": [
    "**(b) The corresponding link lists.**"
   ]
  },
  {
   "cell_type": "code",
   "execution_count": 9,
   "metadata": {
    "collapsed": false
   },
   "outputs": [
    {
     "name": "stdout",
     "output_type": "stream",
     "text": [
      "One: \n",
      "[[1 2]\n",
      " [1 3]\n",
      " [1 4]\n",
      " [1 6]\n",
      " [2 3]\n",
      " [2 4]\n",
      " [3 6]]\n",
      "Two: \n",
      "[[1 2]\n",
      " [3 1]\n",
      " [4 1]\n",
      " [6 1]\n",
      " [2 3]\n",
      " [3 2]\n",
      " [2 4]\n",
      " [6 3]]\n"
     ]
    }
   ],
   "source": [
    "\n",
    "\n",
    "one = numpy.matrix('1 2; 1 3; 1 4; 1 6; 2 3; 2 4; 3 6')\n",
    "two = numpy.matrix('1 2; 3 1; 4 1; 6 1; 2 3; 3 2; 2 4; 6 3')\n",
    "\n",
    "print \"One: \"\n",
    "print one\n",
    "print \"Two: \"\n",
    "print two\n"
   ]
  },
  {
   "cell_type": "markdown",
   "metadata": {},
   "source": [
    "**(c) Determine the average clustering coefficient of the network\n",
    "shown in Figure 2.20a.**"
   ]
  },
  {
   "cell_type": "code",
   "execution_count": 10,
   "metadata": {
    "collapsed": false
   },
   "outputs": [
    {
     "name": "stdout",
     "output_type": "stream",
     "text": [
      "2.33333\n"
     ]
    }
   ],
   "source": [
    "from decimal import *\n",
    "getcontext().prec = 6\n",
    "L = Decimal(7) \n",
    "\n",
    "N = Decimal(6)\n",
    "\n",
    "k_all = 2*L/N\n",
    "\n",
    "print k_all\n"
   ]
  },
  {
   "cell_type": "markdown",
   "metadata": {},
   "source": [
    "**(d) If you switch the labels of nodes 5 and 6 in Figure 2.20a, how does\n",
    "that move change the adjacency matrix? And the link list?**"
   ]
  },
  {
   "cell_type": "code",
   "execution_count": 11,
   "metadata": {
    "collapsed": false
   },
   "outputs": [
    {
     "name": "stdout",
     "output_type": "stream",
     "text": [
      "Adjacency\n",
      "[[0 1 1 1 0 1]\n",
      " [1 0 1 1 0 0]\n",
      " [1 1 0 0 0 1]\n",
      " [1 1 0 0 0 0]\n",
      " [1 0 1 0 0 0]\n",
      " [0 0 0 0 0 0]]\n",
      "Link\n",
      "[[1 2]\n",
      " [1 3]\n",
      " [1 4]\n",
      " [1 5]\n",
      " [2 3]\n",
      " [2 4]\n",
      " [3 5]]\n"
     ]
    }
   ],
   "source": [
    "adjacency = numpy.matrix('0 1 1 1 0 1; 1 0 1 1 0 0; 1 1 0 0 0 1; 1 1 0 0 0 0; 1 0 1 0 0 0; 0 0 0 0 0 0')\n",
    "link = numpy.matrix('1 2; 1 3; 1 4; 1 5; 2 3; 2 4; 3 5')\n",
    "\n",
    "print \"Adjacency\"\n",
    "print adjacency\n",
    "print \"Link\"\n",
    "print link\n"
   ]
  },
  {
   "cell_type": "markdown",
   "metadata": {},
   "source": [
    "**(e) What kind of information can you not infer from the link list\n",
    "representation of the network that you can infer from the adjacency\n",
    "matrix?**\n",
    "\n",
    "Whether or not there are completly unconnected notes"
   ]
  },
  {
   "cell_type": "markdown",
   "metadata": {},
   "source": [
    "**(f) In the (a) network, how many paths (with possible repetition of\n",
    "nodes and links) of length 3 exist starting from node 1 and ending\n",
    "at node 3? And in (b)?**\n",
    "\n",
    "(a) = 6\n",
    "(b) = 0\n"
   ]
  },
  {
   "cell_type": "markdown",
   "metadata": {},
   "source": [
    "**(g) With the help of a computer, count the number of cycles of\n",
    "length 4 in both networks.**"
   ]
  },
  {
   "cell_type": "markdown",
   "metadata": {},
   "source": [
    "## Ploting ##"
   ]
  },
  {
   "cell_type": "code",
   "execution_count": 12,
   "metadata": {
    "collapsed": false
   },
   "outputs": [],
   "source": [
    "import random as rand\n",
    "\n",
    "random_array = numpy.random.normal(2,0.125,5000)\n",
    "\n",
    "histo = numpy.histogram(random_array, bins=10)\n",
    "\n"
   ]
  },
  {
   "cell_type": "code",
   "execution_count": 13,
   "metadata": {
    "collapsed": false
   },
   "outputs": [],
   "source": [
    "\n",
    "array = numpy.ones(histo[0].size)\n",
    "\n",
    "for num in range(0,histo[1].size-1):\n",
    "    array[num]=histo[1][num]+((histo[1][num+1]-histo[1][num])/2)\n",
    "\n",
    "plt.plot(array,histo[0])\n",
    "plt.show()"
   ]
  },
  {
   "cell_type": "code",
   "execution_count": 82,
   "metadata": {
    "collapsed": false
   },
   "outputs": [
    {
     "name": "stdout",
     "output_type": "stream",
     "text": [
      "min: \n",
      "0\n",
      "max \n",
      "22\n"
     ]
    }
   ],
   "source": [
    "random_pois = numpy.random.poisson(10,5000)\n",
    "\n",
    "random_pois.sort()\n",
    "\n",
    "print \"min: \"\n",
    "print random_pois[0]\n",
    "print \"max \"\n",
    "print random_pois[random_pois.size-1]\n"
   ]
  },
  {
   "cell_type": "code",
   "execution_count": 83,
   "metadata": {
    "collapsed": false
   },
   "outputs": [
    {
     "name": "stdout",
     "output_type": "stream",
     "text": [
      "24\n",
      "[  0.   1.   2.   3.   4.   5.   6.   7.   8.   9.  10.  11.  12.  13.  14.\n",
      "  15.  16.  17.  18.  19.  20.  21.  22.  23.]\n"
     ]
    }
   ],
   "source": [
    "pois_array = numpy.ones(random_pois[random_pois.size-1]-random_pois[0] + 2)\n",
    "\n",
    "print pois_array.size\n",
    "\n",
    "pois_index = 0\n",
    "\n",
    "for num in range(random_pois[0],random_pois[random_pois.size-1]+2):\n",
    "    pois_array[pois_index] = num\n",
    "    pois_index = pois_index + 1\n",
    "    \n",
    "print pois_array\n",
    "\n",
    "\n"
   ]
  },
  {
   "cell_type": "code",
   "execution_count": 84,
   "metadata": {
    "collapsed": false
   },
   "outputs": [
    {
     "name": "stdout",
     "output_type": "stream",
     "text": [
      "[ 0  1  1 ..., 22 22 22]\n",
      "(array([  1,   3,  12,  32,  95, 184, 333, 446, 536, 602, 610, 613, 467,\n",
      "       377, 264, 176, 114,  68,  28,  19,  12,   2,   6]), array([  0.,   1.,   2.,   3.,   4.,   5.,   6.,   7.,   8.,   9.,  10.,\n",
      "        11.,  12.,  13.,  14.,  15.,  16.,  17.,  18.,  19.,  20.,  21.,\n",
      "        22.,  23.]))\n"
     ]
    }
   ],
   "source": [
    "print random_pois\n",
    "pois_histo = numpy.histogram(random_pois, pois_array)\n",
    "print pois_histo\n"
   ]
  },
  {
   "cell_type": "code",
   "execution_count": 14,
   "metadata": {
    "collapsed": false
   },
   "outputs": [
    {
     "ename": "NameError",
     "evalue": "name 'pois_histo' is not defined",
     "output_type": "error",
     "traceback": [
      "\u001b[1;31m---------------------------------------------------------------------------\u001b[0m",
      "\u001b[1;31mNameError\u001b[0m                                 Traceback (most recent call last)",
      "\u001b[1;32m<ipython-input-14-cd3f04d94980>\u001b[0m in \u001b[0;36m<module>\u001b[1;34m()\u001b[0m\n\u001b[1;32m----> 1\u001b[1;33m \u001b[0mtemp_array\u001b[0m \u001b[1;33m=\u001b[0m \u001b[0mnumpy\u001b[0m\u001b[1;33m.\u001b[0m\u001b[0mones\u001b[0m\u001b[1;33m(\u001b[0m\u001b[0mpois_histo\u001b[0m\u001b[1;33m[\u001b[0m\u001b[1;36m1\u001b[0m\u001b[1;33m]\u001b[0m\u001b[1;33m.\u001b[0m\u001b[0msize\u001b[0m\u001b[1;33m-\u001b[0m\u001b[1;36m1\u001b[0m\u001b[1;33m)\u001b[0m\u001b[1;33m\u001b[0m\u001b[0m\n\u001b[0m\u001b[0;32m      2\u001b[0m \u001b[1;33m\u001b[0m\u001b[0m\n\u001b[0;32m      3\u001b[0m \u001b[1;32mfor\u001b[0m \u001b[0mnum\u001b[0m \u001b[1;32min\u001b[0m \u001b[0mrange\u001b[0m\u001b[1;33m(\u001b[0m\u001b[1;36m0\u001b[0m\u001b[1;33m,\u001b[0m\u001b[0mtemp_array\u001b[0m\u001b[1;33m.\u001b[0m\u001b[0msize\u001b[0m\u001b[1;33m)\u001b[0m\u001b[1;33m:\u001b[0m\u001b[1;33m\u001b[0m\u001b[0m\n\u001b[0;32m      4\u001b[0m     \u001b[0mtemp_array\u001b[0m\u001b[1;33m[\u001b[0m\u001b[0mnum\u001b[0m\u001b[1;33m]\u001b[0m \u001b[1;33m=\u001b[0m \u001b[0mpois_histo\u001b[0m\u001b[1;33m[\u001b[0m\u001b[1;36m1\u001b[0m\u001b[1;33m]\u001b[0m\u001b[1;33m[\u001b[0m\u001b[0mnum\u001b[0m\u001b[1;33m]\u001b[0m\u001b[1;33m\u001b[0m\u001b[0m\n\u001b[0;32m      5\u001b[0m \u001b[1;33m\u001b[0m\u001b[0m\n",
      "\u001b[1;31mNameError\u001b[0m: name 'pois_histo' is not defined"
     ]
    }
   ],
   "source": [
    "temp_array = numpy.ones(pois_histo[1].size-1)\n",
    "\n",
    "for num in range(0,temp_array.size):\n",
    "    temp_array[num] = pois_histo[1][num] \n",
    "    \n",
    "\n",
    "bar = plt.bar(temp_array, pois_histo[0])\n",
    "plt.show()"
   ]
  },
  {
   "cell_type": "code",
   "execution_count": null,
   "metadata": {
    "collapsed": true
   },
   "outputs": [],
   "source": []
  }
 ],
 "metadata": {
  "kernelspec": {
   "display_name": "Python 2",
   "language": "python",
   "name": "python2"
  },
  "language_info": {
   "codemirror_mode": {
    "name": "ipython",
    "version": 2
   },
   "file_extension": ".py",
   "mimetype": "text/x-python",
   "name": "python",
   "nbconvert_exporter": "python",
   "pygments_lexer": "ipython2",
   "version": "2.7.10"
  }
 },
 "nbformat": 4,
 "nbformat_minor": 0
}
