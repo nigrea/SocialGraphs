{
 "cells": [
  {
   "cell_type": "markdown",
   "metadata": {},
   "source": [
    "# Week 2 #"
   ]
  },
  {
   "cell_type": "markdown",
   "metadata": {},
   "source": [
    "**Question 1**\n",
    "List three different real networks and state the nodes and links for each of them.\n",
    "\n",
    "**WWW**\n",
    "Webpages are nodes, links are edges.\n",
    "\n",
    "**Social Network**\n",
    "People are nodes, relationships are edges.\n",
    "\n",
    "**GPS maps**\n",
    "Street intersections are nodes,streets are edges.\n"
   ]
  },
  {
   "cell_type": "markdown",
   "metadata": {},
   "source": [
    "**Question 2**\n",
    "Tell us of the network you are personally most interested in. Address the following questions:\n",
    "\n",
    "* What are its nodes and links?\n",
    "* How large is it?\n",
    "* Can be mapped out?\n",
    "* Why do you care about it?\n",
    "\n",
    "I find the human interconnectivity very insteresting. The six-degree of bacon theory seems very curious, the idea that we are all interconnected by just a couple of links.\n",
    "Every human is a node and links are events or realtionships which connect these people.\n",
    "It has about 7.3 Billion nodes, the number of links varies by what you define as having a connection or relationship to another person, but it's a huge amount.\n",
    "Not easily, it again depends on definitions of when humans are connected, how intimit does the relation have to be to consider them connected. Facebook is kinda atempting this, with a very narrow definition of relation.\n",
    "I think it shows how closly connected we all are and how similiar."
   ]
  },
  {
   "cell_type": "markdown",
   "metadata": {},
   "source": [
    "**Question 3** In your view what would be the area where network science could have the biggest impact in the next decade? Explain your answer - and base it on the text in the book.\n",
    "\n",
    "The book explains how networks are underlying almost every complex system we know to date. With human evolution our systems are just getting more and more complex, with more layers and more individually moving parts. Systems have been getting to complex to understand at a glance and network analysis is the biggest step to automating a lot of complex system designing. As such I think network science biggest impact might just be it becoming part of every other science (as it already has). So while it might lead to some major break throughs in Computer Science, Social Science, Biology or Chemistry, I believe the most important part of network science is how it can be applied to everything else. How it already plays a roll in day-to-day live for millions in the form of GPS and improving productivity in a lot of aspects of our society. \n",
    "I see network science as a tool to improve thousands of different areas, as these are improved they get more efficent which will solve many problems, which we are currently facing. \n"
   ]
  },
  {
   "cell_type": "markdown",
   "metadata": {},
   "source": [
    "**Question 4**\n",
    "Section 2.5 states that real networks are sparse. Can you think of a real network where each node has many connections? Is that network still sparse? If yes, can you explain why?\n",
    "\n",
    "I can come up with many, non-spares and even many complete networks, where every note is connected with every other note, but most of these are useless. If every node is connected with every other node, then there is no reason to model the dependency (unless the nodes are weighted or directed). It all depends on the requirments for a node to be linked to another node. If for example we had a network showing the relations of students in a class, the studends are the nodes. If we say that two nodes are linked if the students are friends, then we would get a *normal* spares network, but if we were to say that two nodes are linked if the students simply know each other, we would end up with a complete network. The latter network would be useless, since it's implied that everyone in the class at least knows each other, or has seen each other. As such there are *real* networks which aren't sparse, but we are rarely interessted in these. If there is an overabundance of connections, then there is rarely a reason to analyse the network at all, unless we wish to discover which nodes **aren't** linked, in which case we should reverse our network parameters and ask which students do not know each other, just as an example. Interestingly this means that networks can also be used to model the lack of connectivity."
   ]
  },
  {
   "cell_type": "markdown",
   "metadata": {},
   "source": [
    "## Working with networkx ##"
   ]
  },
  {
   "cell_type": "code",
   "execution_count": 9,
   "metadata": {
    "collapsed": true
   },
   "outputs": [],
   "source": [
    "import networkx as nx\n",
    "G=nx.Graph()\n",
    "G.add_node(1)\n",
    "G.add_nodes_from([2,3])"
   ]
  },
  {
   "cell_type": "code",
   "execution_count": 10,
   "metadata": {
    "collapsed": true
   },
   "outputs": [],
   "source": [
    "G.add_edge(1,2)\n",
    "e=(2,3)\n",
    "G.add_edge(*e)\n",
    "G.add_edge(3,1)"
   ]
  },
  {
   "cell_type": "code",
   "execution_count": 11,
   "metadata": {
    "collapsed": false
   },
   "outputs": [
    {
     "data": {
      "text/plain": [
       "[1, 2, 3]"
      ]
     },
     "execution_count": 11,
     "metadata": {},
     "output_type": "execute_result"
    }
   ],
   "source": [
    "G.nodes()"
   ]
  },
  {
   "cell_type": "code",
   "execution_count": 12,
   "metadata": {
    "collapsed": false
   },
   "outputs": [
    {
     "data": {
      "text/plain": [
       "[(1, 2), (1, 3), (2, 3)]"
      ]
     },
     "execution_count": 12,
     "metadata": {},
     "output_type": "execute_result"
    }
   ],
   "source": [
    "G.edges()"
   ]
  },
  {
   "cell_type": "code",
   "execution_count": 13,
   "metadata": {
    "collapsed": false
   },
   "outputs": [
    {
     "data": {
      "text/plain": [
       "[1, 3]"
      ]
     },
     "execution_count": 13,
     "metadata": {},
     "output_type": "execute_result"
    }
   ],
   "source": [
    "G.neighbors(2)"
   ]
  },
  {
   "cell_type": "code",
   "execution_count": 14,
   "metadata": {
    "collapsed": true
   },
   "outputs": [],
   "source": [
    "import matplotlib.pyplot as plt\n",
    "\n",
    "nx.draw(G)\n",
    "plt.show()"
   ]
  },
  {
   "cell_type": "markdown",
   "metadata": {
    "collapsed": true
   },
   "source": [
    "## Book Excercises ##"
   ]
  },
  {
   "cell_type": "markdown",
   "metadata": {},
   "source": [
    "**2.1. Königsberg Problem**\n",
    "Which of the icons in Figure 2.19 can be drawn without raising your\n",
    "pencil from the paper, and without drawing any line more than once?\n",
    "Why?"
   ]
  }
 ],
 "metadata": {
  "kernelspec": {
   "display_name": "Python 2",
   "language": "python",
   "name": "python2"
  },
  "language_info": {
   "codemirror_mode": {
    "name": "ipython",
    "version": 2
   },
   "file_extension": ".py",
   "mimetype": "text/x-python",
   "name": "python",
   "nbconvert_exporter": "python",
   "pygments_lexer": "ipython2",
   "version": "2.7.10"
  }
 },
 "nbformat": 4,
 "nbformat_minor": 0
}
