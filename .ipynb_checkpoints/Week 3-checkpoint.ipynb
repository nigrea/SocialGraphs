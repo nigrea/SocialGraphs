{
 "cells": [
  {
   "cell_type": "markdown",
   "metadata": {},
   "source": [
    "## Week 3 ##"
   ]
  },
  {
   "cell_type": "markdown",
   "metadata": {},
   "source": [
    "**What's the problem with random networks as a model for real-world networks according to the argument on p 11-12?**\n",
    "\n",
    "Random networks do not account for clustering within the network. Most real-world networks, like a social network of friends will have many overlapping friendships in a group of friends, while that cluster is then only sparesly connected to other clusters. A random network will have very few clusters comparativly.\n"
   ]
  },
  {
   "cell_type": "markdown",
   "metadata": {},
   "source": [
    "**List the four regimes that characterize random networks as a function of < k >.**\n",
    "\n",
    "Subcritical Regime: k < 1 \n",
    "\n",
    "Critical Point: k = 1\n",
    "\n",
    "Supercritical Regime: k > 1\n",
    "\n",
    "Connected Regime: k » lnN\n"
   ]
  },
  {
   "cell_type": "markdown",
   "metadata": {},
   "source": [
    "## Network modeling ##"
   ]
  },
  {
   "cell_type": "code",
   "execution_count": 10,
   "metadata": {
    "collapsed": false
   },
   "outputs": [
    {
     "name": "stdout",
     "output_type": "stream",
     "text": [
      "N1: \n",
      "62.875751503\n",
      "N2: \n",
      "7.3526252505\n",
      "N3: \n",
      "4.77087775551\n"
     ]
    }
   ],
   "source": [
    "import networkx as nx\n",
    "import matplotlib.pyplot as plt\n",
    "\n",
    "n1 = nx.watts_strogatz_graph(500, 4, 0)\n",
    "n2 = nx.watts_strogatz_graph(500, 4, 0.1)\n",
    "n3 = nx.watts_strogatz_graph(500, 4, 1)\n",
    "\n",
    "print \"N1: \"\n",
    "print(nx.average_shortest_path_length(n1))\n",
    "print \"N2: \"\n",
    "print(nx.average_shortest_path_length(n2))\n",
    "print \"N3: \"\n",
    "print(nx.average_shortest_path_length(n3))"
   ]
  },
  {
   "cell_type": "code",
   "execution_count": 25,
   "metadata": {
    "collapsed": false
   },
   "outputs": [
    {
     "name": "stdout",
     "output_type": "stream",
     "text": [
      "N4: \n",
      "4.73513426854\n"
     ]
    }
   ],
   "source": [
    "n4 = nx.watts_strogatz_graph(500, 4, 1)\n",
    "print \"N4: \"\n",
    "print(nx.average_shortest_path_length(n4))\n"
   ]
  },
  {
   "cell_type": "code",
   "execution_count": 38,
   "metadata": {
    "collapsed": false
   },
   "outputs": [],
   "source": [
    "ps = [0, 0.01, 0.03, 0.05, 0.1, 0.2]\n",
    "\n",
    "graphs = []\n",
    "ds = []\n",
    "\n",
    "for i in range(0,len(ps)):\n",
    "    graphs.append([])\n",
    "    total_d = 0\n",
    "    for j in range(0,50):\n",
    "        graphs[i].append(nx.watts_strogatz_graph(500, 4, ps[i]))\n",
    "        total_d = total_d + nx.average_shortest_path_length(graphs[i][j])\n",
    "    ds.append(total_d/50)\n",
    "\n",
    "plt.plot(ps,ds)\n",
    "plt.show()\n",
    "   \n"
   ]
  },
  {
   "cell_type": "code",
   "execution_count": null,
   "metadata": {
    "collapsed": true
   },
   "outputs": [],
   "source": []
  }
 ],
 "metadata": {
  "kernelspec": {
   "display_name": "Python 2",
   "language": "python",
   "name": "python2"
  },
  "language_info": {
   "codemirror_mode": {
    "name": "ipython",
    "version": 2
   },
   "file_extension": ".py",
   "mimetype": "text/x-python",
   "name": "python",
   "nbconvert_exporter": "python",
   "pygments_lexer": "ipython2",
   "version": "2.7.10"
  }
 },
 "nbformat": 4,
 "nbformat_minor": 0
}
