{
 "cells": [
  {
   "cell_type": "markdown",
   "metadata": {},
   "source": [
    "#  Week 4 #"
   ]
  },
  {
   "cell_type": "code",
   "execution_count": 1,
   "metadata": {
    "collapsed": false
   },
   "outputs": [
    {
     "name": "stdout",
     "output_type": "stream",
     "text": [
      "found word:cat!\n"
     ]
    }
   ],
   "source": [
    "import re\n",
    "\n",
    "str = 'an example word:cat!!'\n",
    "match = re.search(r'word:....', str)\n",
    "# If-statement after search() tests if it succeeded\n",
    "if match:                      \n",
    "    print 'found', match.group() ## 'found word:cat'\n",
    "else:\n",
    "    print 'did not find'"
   ]
  },
  {
   "cell_type": "code",
   "execution_count": 2,
   "metadata": {
    "collapsed": false
   },
   "outputs": [
    {
     "name": "stdout",
     "output_type": "stream",
     "text": [
      "purple alice-b@google.com\n"
     ]
    }
   ],
   "source": [
    "str = 'purple alice-b@google.com monkey dishwasher'\n",
    "match = re.search(r'[\\s\\w.-]+@[\\w.-]+', str)\n",
    "if match:\n",
    "    print match.group()  "
   ]
  },
  {
   "cell_type": "code",
   "execution_count": 3,
   "metadata": {
    "collapsed": false
   },
   "outputs": [
    {
     "name": "stdout",
     "output_type": "stream",
     "text": [
      "alice@google.com\n",
      "bob@abc.com\n"
     ]
    }
   ],
   "source": [
    "## Suppose we have a text with many email addresses\n",
    "str = 'purple alice@google.com, blah monkey bob@abc.com blah dishwasher'\n",
    "\n",
    "  ## Here re.findall() returns a list of all the found email strings\n",
    "emails = re.findall(r'[\\w\\.-]+@[\\w\\.-]+', str) ## ['alice@google.com', 'bob@abc.com']\n",
    "for email in emails:\n",
    "    # do something with each found email string\n",
    "    print email"
   ]
  },
  {
   "cell_type": "code",
   "execution_count": 4,
   "metadata": {
    "collapsed": false
   },
   "outputs": [
    {
     "name": "stdout",
     "output_type": "stream",
     "text": [
      "['superpolaroid', 'supertaxidermy', 'superbeer']\n"
     ]
    }
   ],
   "source": [
    " \n",
    "f = open('regexTestText.txt', 'r')\n",
    "\n",
    "strings = re.findall(r'super\\w*', f.read())\n",
    "\n",
    "\n",
    "print strings\n",
    "\n"
   ]
  },
  {
   "cell_type": "code",
   "execution_count": 5,
   "metadata": {
    "collapsed": false
   },
   "outputs": [
    {
     "name": "stdout",
     "output_type": "stream",
     "text": [
      "['[[drinking vinegar]]', '[[(gentrify)]]', '[[hashtag]]', '[[Bicycle|Bicycle(two-wheeled type)]]', '[[Pitchfork|Pitchfork Magazine]]']\n"
     ]
    }
   ],
   "source": [
    "f = open('regexTestText.txt', 'r')\n",
    "\n",
    "strings = re.findall(r'\\[\\[[\\w\\s\\(\\).-]+\\]\\]|\\[\\[[\\w\\s\\(\\).-]+\\|[\\w\\s\\(\\).-]+\\]\\]', f.read())\n",
    "\n",
    "print strings\n"
   ]
  },
  {
   "cell_type": "code",
   "execution_count": 6,
   "metadata": {
    "collapsed": true
   },
   "outputs": [],
   "source": [
    "def findWikiLinks(string):\n",
    "    return re.findall(r'\\[\\[([\\w\\s\\(\\).-]+)\\]\\]|\\[\\[[\\w\\s\\(\\).-]+\\|[\\w\\s\\(\\).-]+\\]\\]', string)"
   ]
  },
  {
   "cell_type": "code",
   "execution_count": 7,
   "metadata": {
    "collapsed": true
   },
   "outputs": [],
   "source": [
    "import urllib2 as url\n",
    "import json\n",
    "\n",
    "def getWikiPage(pageName):\n",
    "    baseurl = \"https://en.wikipedia.org/w/api.php?\"\n",
    "    action = \"action=query\"\n",
    "    title = \"&titles=\"\n",
    "    content = \"&prop=revisions&rvprop=content\"\n",
    "    dataformat = \"&format=json\"\n",
    "    \n",
    "    wikiresponse = url.urlopen(baseurl+action+title+pageName+content+dataformat)\n",
    "    \n",
    "    wikisource = wikiresponse.read()\n",
    "        \n",
    "    wikijson = json.loads(wikisource)\n",
    "    \n",
    "    return wikisource\n",
    "        "
   ]
  },
  {
   "cell_type": "code",
   "execution_count": 8,
   "metadata": {
    "collapsed": true
   },
   "outputs": [],
   "source": [
    "def getLinksInWikiList(string):\n",
    "    theList = getWikiPage(string)\n",
    "    return re.findall(r'\\*\\s*\\[\\[([A-Z][\\w\\s\\(\\).-]+)\\]\\]|\\*\\[\\[[[A-Z]\\w\\s\\(\\).-]+\\|[\\w\\s\\(\\).-]+\\]\\]', theList)"
   ]
  },
  {
   "cell_type": "code",
   "execution_count": 9,
   "metadata": {
    "collapsed": false
   },
   "outputs": [
    {
     "name": "stdout",
     "output_type": "stream",
     "text": [
      "111\n",
      "88\n",
      "244\n",
      "223\n",
      "92\n",
      "264\n",
      "1022\n"
     ]
    }
   ],
   "source": [
    "aestheticians = getLinksInWikiList(\"List_of_aestheticians\")\n",
    "\n",
    "epistemologists = getLinksInWikiList(\"List_of_epistemologists\")\n",
    "\n",
    "ethicists = getLinksInWikiList(\"List_of_ethicists\")\n",
    "\n",
    "logicians = getLinksInWikiList(\"List_of_logicians\")\n",
    "\n",
    "metaphysicians = getLinksInWikiList(\"List_of_metaphysicians\")\n",
    "\n",
    "socpol = getLinksInWikiList(\"List_of_social_and_political_philosophers\")\n",
    "\n",
    "allPhilos = aestheticians + epistemologists + ethicists + logicians + metaphysicians + socpol\n",
    "\n",
    "print len(aestheticians)\n",
    "print len(epistemologists)\n",
    "print len(ethicists)\n",
    "print len(logicians)\n",
    "print len(metaphysicians)\n",
    "print len(socpol)\n",
    "print len(allPhilos)\n",
    "\n"
   ]
  },
  {
   "cell_type": "code",
   "execution_count": 10,
   "metadata": {
    "collapsed": false
   },
   "outputs": [
    {
     "name": "stdout",
     "output_type": "stream",
     "text": [
      "['Abhinavagupta', 'Joseph Estrada', 'Theodor Adorno', 'Virgil Aldrich', 'Anandavardhana', 'Sri Aurobindo', 'Aristotle', 'Rudolf Arnheim', 'Mazen Asfour', 'Georg Anton Friedrich Ast', 'Jody Azzouni', 'Victor Basch', 'Yusuf Balasagun', 'Roland Barthes', 'Georges Bataille', 'Alexander Gottlieb Baumgarten', 'Monroe Beardsley', 'Vissarion Belinsky', 'Clive Bell', 'Walter Benjamin', 'Arnold Berleant', 'George Birkhoff', 'Max Black', 'Maurice Blanchot', 'Harold Bloom', 'Georg Brandes', 'Jean Anthelme Brillat-Savarin', 'Ferruccio Busoni', 'John Cage', 'Cesare Brandi', 'Stanley Cavell', 'R. G. Collingwood', 'Victor Cousin', 'Benedetto Croce', 'Gregory Currie', 'Arthur C. Danto', 'John Dewey', 'Umberto Eco', 'Ralph Waldo Emerson', 'Jerry Farber', 'Valentin Feldman', 'Henri Focillon', 'Michel Foucault', 'Hans-Georg Gadamer', 'Alexander Gerard', 'Nelson Goodman', 'Edmund Gurney', 'Etienne Gilson', 'Garry Hagberg', 'Ferdinand Gotthelf Hand', 'Eduard Hanslick', 'Georg Wilhelm Friedrich Hegel', 'Johann Friedrich Herbart', 'Johann Gottfried Herder', 'Hermann Theodor Hettner', 'John Hospers', 'Heinrich Gustav Hotho', 'David Hume', 'Francis Ernest Jackson', 'Christopher Janaway', 'James Joyce', 'Immanuel Kant', 'Mani Kaul', 'Andrzej Tadeusz Kijowski', 'Joseph Kosuth', 'Susanne Langer', 'Vernon Lee', 'Gotthold Ephraim Lessing', 'Jerrold Levinson', 'Liu Xie', 'Peter Lunenfeld', 'John Maeda', 'Jacques Maritain', 'Georg Mehlis', 'Richard Meltzer', 'Theodor Mundt', 'Sam Murgatroyd', 'Friedrich Nietzsche', 'Lalita Pandit', 'Walter Pater', 'Ronald Paulson', 'Hans Pfitzner', 'Plato', 'Edgar Allan Poe', 'Steven Poole', 'Ayn Rand', 'Thomas Reid', 'John Ruskin', 'George Santayana', 'Friedrich Wilhelm Joseph von Schelling', 'Friedrich Schiller', 'August Wilhelm von Schlegel', 'Karl Wilhelm Friedrich von Schlegel', 'Arthur Schopenhauer', 'Roger Scruton', 'Calvin Seerveld', 'Richard Shusterman', 'Frank Sibley (philosopher)', 'Eli Siegel', 'Guy Sircello', 'Karl Wilhelm Ferdinand Solger', 'Michael Sprinker', 'Algernon Charles Swinburne', 'Socrates', 'Tudor Vianu', 'Voltes V', 'Kendall Walton', 'Morris Weitz', 'Oscar Wilde', 'W.K. Wimsatt', 'Richard Wollheim']\n"
     ]
    }
   ],
   "source": [
    "print aestheticians"
   ]
  },
  {
   "cell_type": "code",
   "execution_count": 11,
   "metadata": {
    "collapsed": false
   },
   "outputs": [
    {
     "name": "stdout",
     "output_type": "stream",
     "text": [
      "['William Alston', 'Aristotle', 'Robert Audi', 'A. J. Ayer', 'Francis Bacon', 'George Berkeley', 'Harry Binswanger', 'Laurence Bonjour', 'Berit Brogaard', 'Mario Bunge', 'Judith Butler', 'David Chalmers', 'Noam Chomsky', 'Jonathan Dancy', 'Simone de Beauvoir', 'Fred Dretske', 'Margaret Elizabeth Egan', 'Catherine Elgin', 'Heinz von Foerster', 'Edmund Gettier', 'Ernst von Glasersfeld', 'Alvin Goldman', 'Emma Goldman', 'Nelson Goodman', 'Paul Grice', 'Susan Haack', 'Donna Haraway', 'Sandra Harding', 'Gilbert Harman', 'Sally Haslanger', 'Friedrich A. Hayek', 'G.W.F. Hegel', 'John Hawthorne', 'Thomas Hobbes', 'David Hume', 'Carrie Ichikawa Jenkins', 'Immanuel Kant', 'Peter D. Klein', 'Hilary Kornblith', 'Jennifer Lackey', 'Keith Lehrer', 'Isaac Levi', 'John Locke', 'Niklas Luhmann', 'Norman Malcolm', 'Terence McKenna', 'Trenton Merricks', 'Ludwig von Mises', 'Jean-Louis Le Moigne', 'George Edward Moore', 'Edgar Morin', 'Robert Nozick', 'William of Ockham', 'George Pappas', 'L.A. Paul', 'Leonard Peikoff', 'Jean Piaget', 'Tomek Pietkiewicz', 'Gualtiero Piccinini', 'Alvin Plantinga', 'Plato', 'Louis Pojman', 'Karl Popper', 'W.V.O. Quine', 'Ayn Rand', 'Sherrilyn Roush', 'Bertrand Russell', 'John Searle', 'Susanna Schellenberg', 'Susanna Siegel', 'Socrates', 'David Sosa', 'Ernest Sosa', 'Walter Terence Stace', 'Rudolf Steiner', 'P. F. Strawson', 'Barry Stroud', 'Nassim Nicholas Taleb', 'Peter Unger', 'Giambattista Vico', 'Gerhard Vollmer', 'Phillip H. Wiebe', 'Karla Jessen Williamson', 'Jessica Wilson', 'Ludwig Wittgenstein', 'Xenophanes', 'Linda Trinkaus Zagzebski', 'James Frederick Ferrier']\n"
     ]
    }
   ],
   "source": [
    "print epistemologists"
   ]
  },
  {
   "cell_type": "code",
   "execution_count": 12,
   "metadata": {
    "collapsed": false
   },
   "outputs": [
    {
     "name": "stdout",
     "output_type": "stream",
     "text": [
      "['John Stevens Cabot Abbott', 'Mortimer Adler', 'Nayef Al-Rodhan', 'Thomas Aquinas', 'Nomy Arpaly', 'Ambrose', 'Andronicus of Rhodes', 'Julia Annas', 'G. E. M. Anscombe', 'Karl-Otto Apel', 'Jacob M. Appel', 'Aristotle', 'Aristoxenus', 'Ashoka', 'Augustine of Hippo', 'Avicenna', 'Joxe Azurmendi', 'Franz Xaver von Baader', 'Francis Bacon', 'Alain Badiou', 'Samuel Bailey', 'Tom Beauchamp', 'Friedrich Eduard Beneke', 'Jeremy Bentham', 'Thomas Berry', 'Maurice Blanchot', 'Dietrich Bonhoeffer', 'Murray Bookchin', 'George Boole', 'Nick Bostrom', 'Daniel Brock', 'Martin Buber', 'Gautama Buddha', 'Mario Bunge', 'Judith Butler', 'Albert Camus', 'Arthur Caplan', 'Roger Chao', 'James Childress', 'Randy Cohen', 'Confucius', 'John M. Cooper', 'Roger Crisp', 'Simon Critchley', 'David Crocker', 'Mary Daly', 'Norman Daniels', 'Partha Dasgupta', 'Abraham ibn Daud', 'Miguel A. De La Torre', 'Philip Doddridge', 'Elliot N. Dorff', 'Julia Driver', 'Ronald Dworkin', 'Epicurus', 'Rudolf Christoph Eucken', 'Johann Albert Fabricius', 'John Finnis', 'Joseph Fins', 'Owen Flanagan', 'Joseph Fletcher', 'Philippa Foot', 'William K. Frankena', 'Alexander Campbell Fraser', 'R. Edward Freeman', 'Erich Fromm', 'Raimond Gaita', 'Mohandas Gandhi', 'David Gauthier', 'Alan Gewirth', 'Ghazali', 'Allan Gibbard', 'Carol Gilligan', 'Peter Goldie', 'Victor Gollancz', 'Thomas Hill Green', 'Stanley Grenz', 'Hugo Grotius', 'Tenzin Gyatso', 'Hammurabi', 'R. M. Hare', 'Gilbert Harman', 'John Harsanyi', 'Robert S. Hartman', 'Stanley Hauerwas', 'Henry Hazlitt', 'Paul Hawken', 'Martin Heidegger', 'Erich Heller', 'Frank Herbert', 'Abraham Joshua Heschel', 'Hierocles of Alexandria', 'James Hinton', 'Wau Holland', 'Hans-Hermann Hoppe', 'David Hume', 'John Peters Humphrey', 'Edward Hundert', 'Rosalind Hursthouse', 'Thomas Henry Huxley', 'Lauri Ingman', 'T. H. Irwin', 'Jane Jacobs', 'Paul Janet', 'Francis Jeffrey', 'Shelly Kagan', 'Immanuel Kant', 'Rushworth Kidder', 'Israel Kirzner', 'Lawrence Kohlberg', 'Christine Korsgaard', 'David Korten', 'Peter Kropotkin', 'Aldo Leopold', 'Barron Lerner', 'Emmanuel Levinas', 'John Locke', 'Antoine Garaby de La Luzerne', 'Moshe Chaim Luzzatto', 'Alasdair MacIntyre', 'J. L. Mackie', 'Maimonides', 'Mao Zedong', 'Marcion of Sinope', 'James Martineau', 'John McDowell', 'Glenn McGee', 'Donella Meadows', 'Peter Medawar', 'Mencius', 'Menedemus', 'Mozi', 'Fatema Mernissi', 'James Mill', 'John Stuart Mill', 'Moses', 'Stefan Molyneux', 'G. E. Moore', 'Radhakamal Mukerjee', 'Thomas Nagel', 'Seyyed Hossein Nasr', 'Oswald von Nell-Breuning', 'H. Richard Niebuhr', 'Reinhold Niebuhr', 'Friedrich Nietzsche', 'Carlos Santiago Nino', 'Karl Immanuel Nitzsch', 'David L. Norton', 'Robert Nozick', 'Martha Nussbaum', 'Michel Onfray', 'Blaise Pascal', 'Bahya ibn Paquda', 'Derek Parfit', 'Craig Paterson', 'Philip Pettit', 'Philo', 'Plato', 'Richard Price', 'Prodicus', 'Quintilian', 'Fazlur Rahman', 'Peter Railton', 'Ayn Rand', 'John Rawls', 'Joseph Raz', 'Ronald Reagan', 'Martin Rees', 'Tom Regan', 'George Croom Robertson', 'Richard Rorty', 'W. D. Ross', 'Murray Rothbard', 'Jean-Jacques Rousseau', 'John Ruskin', 'Bertrand Russell', 'Marquis de Sade', 'Edward Said', 'Michael J. Sandel', 'Julian Savulescu', 'Ziauddin Sardar', 'John Ralston Saul', 'Geoffrey Sayre-McCord', 'Giovanni Battista Scaramelli', 'T. M. Scanlon', 'Zalman Schachter-Shalomi', 'Samuel Scheffler', 'Max Scheler', 'Friedrich Schiller', 'Friedrich Daniel Ernst Schleiermacher', 'Karl Wilhelm Friedrich von Schlegel', 'Moritz Schlick', 'Frank Schmalleger', 'David Schmidtz', 'Arthur Schopenhauer', 'Albert Schweitzer', 'Amartya Sen', 'Lucius Annaeus Seneca', 'Russ Shafer-Landau', 'Henry Sidgwick', 'Georg Simmel', 'Peter Singer', 'B. F. Skinner', 'J. J. C. Smart', 'Adam Smith', 'Holly Martin Smith', 'Michael A. Smith', 'Wesley J. Smith', 'Margaret Somerville', 'Herbert Spencer', 'Baruch Spinoza', 'John Shelby Spong', 'Walter Terence Stace', 'Charles L. Stevenson', 'Dugald Stewart', 'Max Stirner', 'Stobaeus', 'Jeffrey Stout', 'Leslie Stephen', 'David Friedrich Strauss', 'Sun Yat-sen', 'Gabriele Taylor', 'Jenny Teichman', 'Judith Jarvis Thomson', 'Paul Tillich', 'Hsun Tzu', 'Leo Tolstoy', 'Thiruvalluvar', 'Henry Babcock Veatch', 'Francisco de Vitoria', 'Johann Georg Walch', 'William George Ward', 'Otto Weininger', 'William Whewell', 'Philip Wicksteed', 'Daniel Wikler', 'Bernard Williams', 'Susan Wolf', 'Christian Wolff (philosopher)', 'William Wollaston', 'Xenocrates', 'John Howard Yoder', 'Theodor Zwinger', 'Swami Vivekananda']\n"
     ]
    }
   ],
   "source": [
    "print ethicists"
   ]
  },
  {
   "cell_type": "code",
   "execution_count": 13,
   "metadata": {
    "collapsed": false
   },
   "outputs": [
    {
     "name": "stdout",
     "output_type": "stream",
     "text": [
      "['Pierre Abelard', 'Wilhelm Ackermann', 'Sergei Adian', 'Rodolphus Agricola', 'Kazimierz Ajdukiewicz', 'Alcuin', 'Alan Ross Anderson', 'Thomas Aquinas', 'Aristotle', 'Ahmed Raza Khan', 'Heiric of Auxerre', 'Bahmanyar', 'Alexander Bain', 'Yehoshua Bar-Hillel', 'Ruth Barcan Marcus', 'Henk Barendregt', 'Jon Barwise', 'James Earl Baumgartner', 'John Lane Bell', 'Nuel Belnap', 'Paul Benacerraf', 'Paul Bernays', 'Evert Willem Beth', 'Boethius', 'Bernard Bolzano', 'George Boole', 'George Boolos', 'Nicolas Bourbaki', 'Thomas Bradwardine', 'Richard Brinkley', 'Luitzen Egbertus Jan Brouwer', 'Franco Burgersdijk', 'Walter Burley', 'Jean Buridan', 'Rudolf Carnap', 'Lewis Carroll', 'Gregory Chaitin', 'Chrysippus', 'Alonzo Church', 'Leon Chwistek', 'Conimbricenses', 'S. Barry Cooper', 'Jack Copeland', 'Newton da Costa', 'Haskell Curry', 'Dirk van Dalen', 'Martin Davis', 'Augustus De Morgan', 'Dharmakirti', 'Diodorus Cronus', 'Michael A. E. Dummett', 'John Dumbleton', 'Alexander Esenin-Volpin', 'John Etchemendy', 'Solomon Feferman', 'Richard Ferrybridge', 'Hartry Field', 'Kit Fine', 'Melvin Fitting', 'Matthew Foreman', 'Michael Fourman', 'Adolf Fraenkel', 'Gottlob Frege', 'Harvey Friedman', 'Graeme Forbes', 'Dov Gabbay', 'L. T. F. Gamut', 'Robin Gandy', 'Sol Garfunkel', 'Garlandus Compotista', 'Peter Geach', 'Gerhard Gentzen', 'Joseph Diaz Gergonne', 'Jean-Yves Girard', 'Reuben Louis Goodstein', 'Siegfried Gottwald', 'Jeroen Groenendijk', 'Susan Haack', 'Leo Harrington', 'Robert S. Hartman', 'Georg Wilhelm Friedrich Hegel', 'Jean Van Heijenoort', 'Leon Henkin', 'Jacques Herbrand', 'Arend Heyting', 'David Hilbert', 'Jaakko Hintikka', 'Alfred Horn', 'William Alvin Howard', 'Ehud Hrushovski', 'Ibn Taymiyyah', 'Marsilius of Inghen', 'Giorgi Japaridze', 'Richard Jeffrey', 'Ronald Jensen', 'William Stanley Jevons', 'John of St. Thomas', 'William Ernest Johnson', 'Dick de Jongh', 'Philip Jourdain', 'Joachim Jungius', 'Alexander S. Kechris', 'Richard Kilvington', 'Robert Kilwardby', 'Stephen Cole Kleene', 'Robert Kowalski', 'Georg Kreisel', 'Saul Kripke', 'Leopold Kronecker', 'Christine Ladd-Franklin', 'Joachim Lambek', 'Johann Heinrich Lambert', 'Karel Lambert', 'Clarence Irving Lewis', 'David Kellogg Lewis', 'Adolf Lindenbaum', 'Ramon Llull', 'Paul Lorenzen', 'Hermann Lotze', 'Hugh MacColl', 'Saunders MacLane', 'Dugald Macpherson', 'Penelope Maddy', 'David Makinson', 'John Mair', 'Isaac Malitz', 'Gary R. Mar', 'Ruth Barcan Marcus', 'Donald A. Martin', 'Richard Milton Martin', 'Yuri Matiyasevich', 'John Stuart Mill', 'Grigori Mints', 'Richard Montague', 'Yiannis N. Moschovakis', 'Andrzej Mostowski', 'Edward Nelson', 'John von Neumann', 'Jean Nicod', 'Pyotr Novikov', 'William of Ockham', 'Piergiorgio Odifreddi', 'John Pagus', 'Jeff Paris', 'Solomon Passy', 'Paul of Venice', 'Giuseppe Peano', 'Charles Sanders Peirce', 'Paolo da Pergola', 'Chaim Perelman', 'Peter of Spain', 'Philo the Dialectician', 'Walter Pitts', 'Emil Leon Post', 'Dag Prawitz', 'Graham Priest', 'Arthur Prior', 'Hilary Putnam', 'Willard Van Orman Quine', 'Michael O. Rabin', 'Frank Plumpton Ramsey', 'Petrus Ramus', 'Helena Rasiowa', 'Carveth Read', 'Abraham Robinson', 'Raphael M. Robinson', 'J. Barkley Rosser', 'Richard Routley', 'Frederick Rowbottom', 'Ian Rumfitt', 'Bertrand Russell', 'Gerald Sacks', 'Giovanni Girolamo Saccheri', 'Rolf Schock', 'Dana Scott', 'Sedulius Scottus', 'John Duns Scotus', 'Stewart Shapiro', 'Fyodor Shcherbatskoy', 'Saharon Shelah', 'William of Sherwood', 'Hui Shi', 'Simplicius of Cilicia', 'Raghunatha Siromani', 'Thoralf Skolem', 'Dimiter Skordev', 'Theodore Slaman', 'Raymond Smullyan', 'Robert M. Solovay', 'Richard the Sophister', 'Peter of Spain', 'John R. Steel', 'Martin Stokhof', 'Ralph Strode', 'Richard Swineshead', 'Richard Sylvan', 'Gaisi Takeuti', 'Alfred Tarski', 'Theophrastus', 'Friedrich Adolf Trendelenburg', 'Anne Sjerp Troelstra', 'Alan Turing', 'Kazimierz Twardowski', 'Udayana', 'Alasdair Urquhart', 'Lorenzo Valla', 'Moshe Y. Vardi', 'Nicolai A. Vasiliev', 'Robert Lawson Vaught', 'Paul of Venice', 'John Venn', 'Juan Luis Vives', 'Isaac Watts', 'Richard Whately', 'Alfred North Whitehead', 'Ludwig Wittgenstein', 'W. Hugh Woodin', 'Georg Henrik von Wright', 'Jin Yuelin', 'Jacopo Zabarella', 'Lotfi A. Zadeh', 'Ernst Zermelo', 'Aleksandr Zinovyev']\n"
     ]
    }
   ],
   "source": [
    "print logicians"
   ]
  },
  {
   "cell_type": "code",
   "execution_count": 14,
   "metadata": {
    "collapsed": false
   },
   "outputs": [
    {
     "name": "stdout",
     "output_type": "stream",
     "text": [
      "['Pythagoras', 'Democritus', 'Heraclitus', 'Anaximander', 'Plotinus', 'Lucretius', 'Proclus Lycaeus', 'Zeno of Elea', 'Parmenides', 'Protagoras', 'Plato', 'Aristotle', 'Thomas Aquinas', 'Duns Scotus', 'Galileo Galilei', 'Baruch Spinoza', 'Nicolas Malebranche', 'Gottfried Leibniz', 'George Berkeley', 'Immanuel Kant', 'Georg W. F. Hegel', 'Arthur Schopenhauer', 'Austin Osman Spare', 'Nicolai Hartmann', 'Martin Heidegger', 'Gottlob Frege', 'G. E. Moore', 'Pierre Teilhard de Chardin', 'Bertrand Russell', 'Alfred North Whitehead', 'Henri Bergson', 'Ludwig Wittgenstein', 'George Holmes Howison', 'Alain Badiou', 'Marilyn McCord Adams', 'Robert Merrihew Adams', 'William Alston', 'David Malet Armstrong', 'Lynne Rudder Baker', 'Paul Benacerraf', 'C. D. Broad', 'Berit Brogaard', 'David Chalmers', 'Gilles Deleuze', 'Arda Denkel', 'Michael Devitt', 'Nader El-Bizri', 'Catherine Elgin', 'Kit Fine', 'Peter Geach', 'Peter Glassen', 'Nelson Goodman', 'Jean Grondin', 'Susan Haack', 'John Hawthorne', 'Sally Haslanger', 'Shadworth Hodgson', 'Suzy Kassem', 'David Kolb', 'Saul Kripke', 'Brian Leftow', 'David K. Lewis', 'Peter Ludlow', 'William Lycan', 'Penelope Maddy', 'Ruth Barcan Marcus', 'Trenton Merricks', 'L.A. Paul', 'Terence Parsons', 'Gualtiero Piccinini', 'Alvin Plantinga', 'Graham Priest', 'Hilary Putnam', 'Willard V. O. Quine', 'Jay Rosenberg', 'Nathan Salmon', 'Jean-Paul Sartre', 'Frithjof Schuon', 'Theodore Sider', 'Gilbert Simondon', 'Wolfgang Smith', 'Robert Stalnaker', 'P. F. Strawson', 'Judith Jarvis Thomson', 'Peter Unger', 'Peter van Inwagen', 'David Wiggins', 'Colin Wilson', 'Jessica Wilson', 'Damon Young', 'Dean Zimmerman', 'Xavier Zubiri']\n"
     ]
    }
   ],
   "source": [
    "print metaphysicians"
   ]
  },
  {
   "cell_type": "code",
   "execution_count": 15,
   "metadata": {
    "collapsed": false
   },
   "outputs": [
    {
     "name": "stdout",
     "output_type": "stream",
     "text": [
      "['Abraham Joshua Heschel', 'Abul Kalam Azad', 'Adrian Johnston (philosopher)', 'Alan Carter (philosopher)', 'Alan Ryan', 'Alastair Norcross', 'Alexis de Tocqueville', 'Alfred Rosenberg', 'Ali Shariati', 'Alon Ben-Meir', 'Andrei Marga', 'Anthony de Jasay', 'Antonio Negri', 'Archon', 'Aristotle', 'Armin Mohler', 'Arthur Linton Corbin', 'Arthur Moeller van den Bruck', 'Auberon Herbert', 'Averroes', 'Axel Honneth', 'Ayn Rand', 'Benjamin Tucker', 'Bertrand de Jouvenel', 'Bertrand Russell', 'Bhimrao Ramji Ambedkar', 'Boris Furlan', 'Bruce Lee', 'Bruno Leoni', 'Bryan Caplan', 'Carl Joachim Friedrich', 'Carl Schmitt', 'Carlo Lottieri', 'Chankya', 'Charles Blattberg', 'Charles Taylor (philosopher)', 'Cheng Hao', 'Cheng Yi (philosopher)', 'Claude Lefort', 'Claudio Canaparo', 'Confucius', 'Cornel West', 'Cornelius Castoriadis', 'Costas Douzinas', 'Dana Ward', 'David D. Friedman', 'David Kolb', 'David Miller (political theorist)', 'David Prychitko', 'Dimitris Dimitrakos', 'Disciples of Confucius', 'Dong Zhongshu', 'Emma Goldman', 'Enrique Dussel', 'Eric Voegelin', 'Ernest Wamba dia Wamba', 'Ernst Bloch', 'Eugen Rosenstock-Huessy', 'Felix Kaufmann', 'Francis Fukuyama', 'Francis Parker Yockey', 'Frank Meyer (political philosopher)', 'Friedrich Hayek', 'Fujiwara Seika', 'Gary Chartier', 'Gene Callahan (economist)', 'Georg Jellinek', 'Georg Wilhelm Friedrich Hegel', 'George Kateb', 'George Ohsawa', 'Georges Bataille', 'Gerald Cohen', 'Gerald Dworkin', 'Gerrard Winstanley', 'Giacomo Marramao', 'Giambattista Vico', 'Gianfranco Sanguinetti', 'Giannina Braschi', 'Giorgio Agamben', 'Giorgio Del Vecchio', 'Gottfried Leibniz', 'Gustave de Molinari', 'Guy Aldred', 'Guy Debord', 'H. B. Acton', 'H. L. A. Hart', 'Han Fei', 'Han Ryner', 'Hannah Arendt', 'Hans Achterhuis', 'Hans Kelsen', 'Har Dayal', 'Harriet Taylor Mill', 'Hayashi Razan', 'Henri Lefebvre', 'Henry David Thoreau', 'Henry George', 'Henry Pachter', 'Henry Sidgwick', 'Herbert Spencer', 'Herman Oliphant', 'Hirata Atsutane', 'Houston Stewart Chamberlain', 'Howard Zinn', 'Hugo Grotius', 'Igor Pribac', 'Immanuel Kant', 'Iris Marion Young', 'Isabel Paterson', 'Isaiah Berlin', 'Israr Ahmed', 'J. J. C. Smart', 'Jack Russell Weinstein', 'James Brusseau', 'James Tully (philosopher)', 'Jamie Whyte', 'Janet Biehl', 'Janet Coleman', 'Jawaharlal Nehru', 'Jean Bodin', 'Jean-Jacques Rousseau', 'Jeffrey Friedman (political scientist)', 'Jeremy Bentham', 'John Austin (legal philosopher)', 'John Burnheim', 'John Finnis', 'John Hospers', 'John Locke', 'John Oswald (activist)', 'John Rawls', 'John Searle', 'John Stuart Mill', 'John William Miller', 'John Zerzan', 'Jonathan Wolff (philosopher)', 'Joseph de Torre', 'Joseph Priestley and Dissent', 'Joseph Priestley', 'Joseph Raz', 'Joshua Cohen (philosopher)', 'Joxe Azurmendi', 'Judith Butler', 'Julian Gumperz', 'Julien Offray de La Mettrie', 'Julius Binder', 'Kaibara Ekken', 'Karl Loewenstein', 'Karl Marx', 'Karl Popper', 'Karl-Otto Apel', 'Kevin Carson', 'Langdon Winner', 'Leonard Borgzinner', 'Leonard Read', 'Leonidas Donskis', 'Lewis Call', 'Li (Confucian)', 'Li (Neo-Confucianism)', 'Lon L. Fuller', 'Loren Lomasky', 'Louis Althusser', 'Ludwig von Mises', 'Lysander Spooner', 'Manuel De Landa', 'Mao Zedong', 'Margaret Canovan', 'Mario Bunge', 'Mario Tronti', 'Martha Nussbaum', 'Maurice Brinton', 'Maurice Cranston', 'Max Baginski', 'Max Horkheimer', 'Max Stirner', 'Mazdak', 'Mencius', 'Michael Davis (philosopher)', 'Michael Novak', 'Michael Oakeshott', 'Michael Otsuka', 'Michel Foucault', 'Michel Onfray', 'Mikelis Avlichos', 'Mikhail Bakunin', 'Milan Kangrga', 'Mohandas Karamchand Gandhi', 'Monarchomachs', 'Mortimer Adler', 'Mozi', 'Muhammad', 'Muhammad Asad', 'Muhammad Iqbal', 'Murray Bookchin', 'Murray Rothbard', 'Nestor Makhno', 'Nigel Warburton', 'Noam Chomsky', 'Norbert Bolz', 'Norbert Leser', 'Octave Mirbeau', 'Oskar Negt', 'Paolo Virno', 'Paul R. Patton', 'Paul Virilio', 'Pekka Himanen', 'Per Bauhn', 'Peter Kropotkin', 'Peter Lamborn Wilson', 'Peter Sloterdijk', 'Phaleas of Chalcedon', 'Philip Mazzei', 'Philip Pettit', 'Philippe Van Parijs', 'Pierre Bourdieu', 'Plato', 'Rainer Forst', 'Raya Dunayevskaya', 'Richard M. Weaver', 'Right Hegelians', 'Roberto Esposito', 'Robert P. George', 'Robert Paul Wolff', 'Roberto Mangabeira Unger', 'Roderick Long', 'Ronald Dworkin', 'Russell Kirk', 'Serge Moscovici', 'Shmuel Alexandrov', 'Simone Weil', 'Spencer Heath', 'Stephen Bronner', 'Sun Yat-sen', 'T. M. Scanlon', 'Takis Fotopoulos', 'Tan Sitong', 'Tara Smith (philosopher)', 'Theodor Sternberg', 'Theodor W. Adorno', 'Thomas Hill Green', 'Thomas Hobbes', 'Thomas Nagel', 'Thucydides', 'Todd May', 'Toju Nakae', 'Tripp York', 'Umar bin al-Khattab', 'Voltaire', 'Voltairine de Cleyre', 'Walter Benjamin', 'Warren Buffett', 'Wesley Newcomb Hohfeld', 'Wilhelm Dilthey', 'William Fontaine', 'William James', 'William Paley', 'William Sweet', 'Wu Enyu', 'Xun Zi', 'Yamazaki Ansai', 'Yi I', 'Young Hegelians', 'List of Confucianists', 'List of critical theorists', 'List of Existentialists']\n"
     ]
    }
   ],
   "source": [
    "print socpol"
   ]
  },
  {
   "cell_type": "code",
   "execution_count": 16,
   "metadata": {
    "collapsed": false
   },
   "outputs": [
    {
     "name": "stdout",
     "output_type": "stream",
     "text": [
      "[(2, 'Abraham Joshua Heschel'), (2, 'Alain Badiou'), (2, 'Alfred North Whitehead'), (2, 'Alvin Plantinga'), (2, 'Baruch Spinoza'), (2, 'Berit Brogaard'), (2, 'Catherine Elgin'), (2, 'Confucius'), (2, 'David Chalmers'), (2, 'David Kolb'), (2, 'Emma Goldman'), (2, 'Francis Bacon'), (2, 'Friedrich Nietzsche'), (2, 'Friedrich Schiller'), (2, 'G. E. Moore'), (2, 'George Berkeley'), (2, 'George Boole'), (2, 'Georges Bataille'), (2, 'Giambattista Vico'), (2, 'Gilbert Harman'), (2, 'Gottfried Leibniz'), (2, 'Gottlob Frege'), (2, 'Graham Priest'), (2, 'Gualtiero Piccinini'), (2, 'Henry Sidgwick'), (2, 'Herbert Spencer'), (2, 'Hilary Putnam'), (2, 'Hugo Grotius'), (2, 'J. J. C. Smart'), (2, 'Jean-Jacques Rousseau'), (2, 'Jeremy Bentham'), (2, 'Jessica Wilson'), (2, 'John Finnis'), (2, 'John Hawthorne'), (2, 'John Hospers'), (2, 'John Rawls'), (2, 'John Ruskin'), (2, 'John Searle'), (2, 'Joseph Raz'), (2, 'Joxe Azurmendi'), (2, 'Judith Jarvis Thomson'), (2, 'Karl Popper'), (2, 'Karl Wilhelm Friedrich von Schlegel'), (2, 'Karl-Otto Apel'), (2, 'Kit Fine'), (2, 'L.A. Paul'), (2, 'Ludwig von Mises'), (2, 'Mao Zedong'), (2, 'Martha Nussbaum'), (2, 'Martin Heidegger'), (2, 'Maurice Blanchot'), (2, 'Max Stirner'), (2, 'Mencius'), (2, 'Michel Foucault'), (2, 'Michel Onfray'), (2, 'Mortimer Adler'), (2, 'Mozi'), (2, 'Murray Bookchin'), (2, 'Murray Rothbard'), (2, 'Noam Chomsky'), (2, 'P. F. Strawson'), (2, 'Paul Benacerraf'), (2, 'Paul of Venice'), (2, 'Penelope Maddy'), (2, 'Peter Geach'), (2, 'Peter Kropotkin'), (2, 'Peter Unger'), (2, 'Peter of Spain'), (2, 'Philip Pettit'), (2, 'Robert Nozick'), (2, 'Robert S. Hartman'), (2, 'Ronald Dworkin'), (2, 'Sally Haslanger'), (2, 'Saul Kripke'), (2, 'Socrates'), (2, 'Sun Yat-sen'), (2, 'T. M. Scanlon'), (2, 'Thomas Hill Green'), (2, 'Thomas Hobbes'), (2, 'Thomas Nagel'), (2, 'Trenton Merricks'), (2, 'Walter Benjamin'), (2, 'Walter Terence Stace'), (2, 'William Alston'), (2, 'William of Ockham'), (3, 'Arthur Schopenhauer'), (3, 'David Hume'), (3, 'Georg Wilhelm Friedrich Hegel'), (3, 'John Locke'), (3, 'John Stuart Mill'), (3, 'Judith Butler'), (3, 'Ludwig Wittgenstein'), (3, 'Mario Bunge'), (3, 'Nelson Goodman'), (3, 'Ruth Barcan Marcus'), (3, 'Susan Haack'), (3, 'Thomas Aquinas'), (4, 'Ayn Rand'), (5, 'Bertrand Russell'), (5, 'Immanuel Kant'), (5, 'Plato'), (6, 'Aristotle')]\n"
     ]
    }
   ],
   "source": [
    "multiPhilos = [];\n",
    "for philo in list(set(allPhilos)):\n",
    "    count = allPhilos.count(philo)\n",
    "    if count > 1 :\n",
    "        multiPhilos.append((count,philo))\n",
    "\n",
    "multiPhilos.sort()\n",
    "        \n",
    "print multiPhilos\n",
    "    \n",
    "    "
   ]
  },
  {
   "cell_type": "code",
   "execution_count": 17,
   "metadata": {
    "collapsed": true
   },
   "outputs": [],
   "source": [
    "allWikiPages = []\n",
    "\n",
    "for philo in list(set(allPhilos)):        \n",
    "    allWikiPages.append((philo,getWikiPage(philo.replace (\" \", \"_\"))))\n",
    "    "
   ]
  },
  {
   "cell_type": "code",
   "execution_count": 18,
   "metadata": {
    "collapsed": false
   },
   "outputs": [],
   "source": [
    "import networkx as nx\n",
    "\n",
    "G = nx.DiGraph()\n",
    "\n",
    "for philo in list(set(allPhilos)):\n",
    "    G.add_node(philo)\n",
    "\n",
    "for wikiPage in allWikiPages:\n",
    "    allLinks = findWikiLinks(wikiPage[1])\n",
    "    acceptedLinks = set(allLinks).intersection(list(set(allPhilos)))\n",
    "    for acceptedLink in acceptedLinks: \n",
    "        G.add_edge(wikiPage[0],acceptedLink)\n",
    "    "
   ]
  },
  {
   "cell_type": "code",
   "execution_count": 19,
   "metadata": {
    "collapsed": false
   },
   "outputs": [
    {
     "data": {
      "text/plain": [
       "['Jawaharlal Nehru']"
      ]
     },
     "execution_count": 19,
     "metadata": {},
     "output_type": "execute_result"
    }
   ],
   "source": [
    "G.neighbors(allPhilos[5])\n",
    "\n"
   ]
  },
  {
   "cell_type": "code",
   "execution_count": 20,
   "metadata": {
    "collapsed": false
   },
   "outputs": [],
   "source": [
    "import matplotlib.pyplot as plt\n",
    "\n",
    "nx.draw(G)\n",
    "plt.show()"
   ]
  },
  {
   "cell_type": "code",
   "execution_count": 21,
   "metadata": {
    "collapsed": false
   },
   "outputs": [
    {
     "name": "stdout",
     "output_type": "stream",
     "text": [
      "893\n",
      "2834\n",
      "3.17357222844\n"
     ]
    }
   ],
   "source": [
    "print G.number_of_nodes()\n",
    "print G.number_of_edges()\n",
    "print float(G.number_of_edges())/G.number_of_nodes()"
   ]
  },
  {
   "cell_type": "code",
   "execution_count": 22,
   "metadata": {
    "collapsed": false
   },
   "outputs": [
    {
     "name": "stdout",
     "output_type": "stream",
     "text": [
      "In:\n",
      "(101, 'Aristotle')\n",
      "(76, 'Plato')\n",
      "(67, 'Bertrand Russell')\n",
      "(62, 'Immanuel Kant')\n",
      "(46, 'Ludwig Wittgenstein')\n",
      "(46, 'Karl Marx')\n",
      "(43, 'David Hume')\n",
      "(41, 'John Stuart Mill')\n",
      "(38, 'Friedrich Nietzsche')\n",
      "Out:\n",
      "(35, 'Bertrand Russell')\n",
      "(31, 'Martin Heidegger')\n",
      "(30, 'David Hume')\n",
      "(29, 'List of critical theorists')\n",
      "(28, 'Georg Wilhelm Friedrich Hegel')\n",
      "(28, 'Friedrich Nietzsche')\n",
      "(26, 'Plato')\n",
      "(25, 'Alfred North Whitehead')\n",
      "(23, 'Henri Bergson')\n"
     ]
    }
   ],
   "source": [
    "in_degree = []\n",
    "out_degree = []\n",
    "\n",
    "for philo in list(set(allPhilos)):\n",
    "    in_degree.append((G.in_degree(philo),philo))\n",
    "    out_degree.append((G.out_degree(philo),philo))\n",
    "    \n",
    "in_degree.sort()\n",
    "out_degree.sort()\n",
    "\n",
    "in_degree.reverse()\n",
    "out_degree.reverse()\n",
    "\n",
    "print \"In:\"\n",
    "\n",
    "for x in range(0, 9):\n",
    "    print in_degree[x]\n",
    "    \n",
    "print \"Out:\"\n",
    "    \n",
    "for x in range(0, 9):    \n",
    "    print out_degree[x]"
   ]
  },
  {
   "cell_type": "code",
   "execution_count": 42,
   "metadata": {
    "collapsed": true
   },
   "outputs": [],
   "source": [
    "undiG = G.to_undirected()"
   ]
  },
  {
   "cell_type": "code",
   "execution_count": 33,
   "metadata": {
    "collapsed": false
   },
   "outputs": [
    {
     "name": "stdout",
     "output_type": "stream",
     "text": [
      "Betweenness:\n",
      "('Bertrand Russell', 0.05780495794813729)\n",
      "('Plato', 0.04141191904489445)\n",
      "('Aristotle', 0.039738061911389025)\n",
      "('Friedrich Nietzsche', 0.02719126896558204)\n",
      "('David Hume', 0.02691320861543468)\n"
     ]
    }
   ],
   "source": [
    "import operator\n",
    "\n",
    "betweenness = nx.betweenness_centrality(G)\n",
    "\n",
    "sorted_betweenness = sorted(betweenness.items(), key=operator.itemgetter(1))\n",
    "sorted_betweenness.reverse()\n",
    "\n",
    "print \"Betweenness:\"\n",
    "\n",
    "for x in range(0, 5):\n",
    "    print sorted_betweenness[x]\n"
   ]
  },
  {
   "cell_type": "code",
   "execution_count": 36,
   "metadata": {
    "collapsed": false
   },
   "outputs": [
    {
     "name": "stdout",
     "output_type": "stream",
     "text": [
      "EigenVector:\n",
      "('Aristotle', 0.34235009670725225)\n",
      "('Bertrand Russell', 0.3392781456362836)\n",
      "('Plato', 0.2773377596989508)\n",
      "('David Hume', 0.19867914980593523)\n",
      "('Ludwig Wittgenstein', 0.19122646963194143)\n"
     ]
    }
   ],
   "source": [
    "eightVector = nx.eigenvector_centrality(G)\n",
    "sorted_EightVector = sorted(eightVector.items(), key=operator.itemgetter(1))\n",
    "sorted_EightVector.reverse()\n",
    "\n",
    "print \"EigenVector:\"\n",
    "\n",
    "for x in range(0, 5):\n",
    "    print sorted_EightVector[x]\n"
   ]
  },
  {
   "cell_type": "code",
   "execution_count": 44,
   "metadata": {
    "collapsed": false
   },
   "outputs": [
    {
     "name": "stdout",
     "output_type": "stream",
     "text": [
      "-0.0661941387821\n"
     ]
    }
   ],
   "source": [
    "assortive_degree = nx.degree_assortativity_coefficient(undiG)\n",
    "print assortive_degree"
   ]
  },
  {
   "cell_type": "code",
   "execution_count": 64,
   "metadata": {
    "collapsed": false
   },
   "outputs": [],
   "source": [
    "import json\n",
    "import numpy as np\n",
    "\n",
    "all_text = json.loads(open('philosopher_birth_year.json').read())\n",
    "\n",
    "centurys = [500,600,700,800,900,1000,1100,1200,1300,1400,1500,1600,1700,1900,2000,2100]\n",
    "centurys_two = [500,600,700,800,900,1000,1100,1200,1300,1400,1500,1600,1700,1900,2000]\n",
    "histo = np.histogram(all_text.values(), centurys)\n",
    "\n",
    "plt.bar(centurys_two,histo[0])\n",
    "\n",
    "plt.show()\n"
   ]
  },
  {
   "cell_type": "code",
   "execution_count": 67,
   "metadata": {
    "collapsed": false
   },
   "outputs": [],
   "source": [
    "undiSubGraph = undiG.subgraph(all_text.keys())\n",
    "nx.draw(undiSubGraph)\n",
    "plt.show()\n",
    "\n",
    "\n"
   ]
  },
  {
   "cell_type": "code",
   "execution_count": null,
   "metadata": {
    "collapsed": true
   },
   "outputs": [],
   "source": []
  }
 ],
 "metadata": {
  "kernelspec": {
   "display_name": "Python 2",
   "language": "python",
   "name": "python2"
  },
  "language_info": {
   "codemirror_mode": {
    "name": "ipython",
    "version": 2
   },
   "file_extension": ".py",
   "mimetype": "text/x-python",
   "name": "python",
   "nbconvert_exporter": "python",
   "pygments_lexer": "ipython2",
   "version": "2.7.10"
  }
 },
 "nbformat": 4,
 "nbformat_minor": 0
}
